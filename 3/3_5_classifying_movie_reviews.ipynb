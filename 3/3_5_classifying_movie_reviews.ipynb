{
 "cells": [
  {
   "cell_type": "code",
   "execution_count": 2,
   "metadata": {},
   "outputs": [
    {
     "name": "stdout",
     "output_type": "stream",
     "text": [
      "Downloading data from https://s3.amazonaws.com/text-datasets/imdb.npz\n",
      "17465344/17464789 [==============================] - 6s 0us/step\n"
     ]
    }
   ],
   "source": [
    "'''3_1 加载IMDB数据集\n",
    "2019_12_5\n",
    "'''\n",
    "from keras.datasets import imdb\n",
    "\n",
    "#仅仅保留训练数据前10000个最常出现的单词，低频单词将会被舍弃\n",
    "(train_data, train_labels), (test_data, test_labels) = imdb.load_data(num_words=10000)"
   ]
  },
  {
   "cell_type": "code",
   "execution_count": 3,
   "metadata": {},
   "outputs": [
    {
     "data": {
      "text/plain": [
       "[1,\n",
       " 14,\n",
       " 22,\n",
       " 16,\n",
       " 43,\n",
       " 530,\n",
       " 973,\n",
       " 1622,\n",
       " 1385,\n",
       " 65,\n",
       " 458,\n",
       " 4468,\n",
       " 66,\n",
       " 3941,\n",
       " 4,\n",
       " 173,\n",
       " 36,\n",
       " 256,\n",
       " 5,\n",
       " 25,\n",
       " 100,\n",
       " 43,\n",
       " 838,\n",
       " 112,\n",
       " 50,\n",
       " 670,\n",
       " 2,\n",
       " 9,\n",
       " 35,\n",
       " 480,\n",
       " 284,\n",
       " 5,\n",
       " 150,\n",
       " 4,\n",
       " 172,\n",
       " 112,\n",
       " 167,\n",
       " 2,\n",
       " 336,\n",
       " 385,\n",
       " 39,\n",
       " 4,\n",
       " 172,\n",
       " 4536,\n",
       " 1111,\n",
       " 17,\n",
       " 546,\n",
       " 38,\n",
       " 13,\n",
       " 447,\n",
       " 4,\n",
       " 192,\n",
       " 50,\n",
       " 16,\n",
       " 6,\n",
       " 147,\n",
       " 2025,\n",
       " 19,\n",
       " 14,\n",
       " 22,\n",
       " 4,\n",
       " 1920,\n",
       " 4613,\n",
       " 469,\n",
       " 4,\n",
       " 22,\n",
       " 71,\n",
       " 87,\n",
       " 12,\n",
       " 16,\n",
       " 43,\n",
       " 530,\n",
       " 38,\n",
       " 76,\n",
       " 15,\n",
       " 13,\n",
       " 1247,\n",
       " 4,\n",
       " 22,\n",
       " 17,\n",
       " 515,\n",
       " 17,\n",
       " 12,\n",
       " 16,\n",
       " 626,\n",
       " 18,\n",
       " 2,\n",
       " 5,\n",
       " 62,\n",
       " 386,\n",
       " 12,\n",
       " 8,\n",
       " 316,\n",
       " 8,\n",
       " 106,\n",
       " 5,\n",
       " 4,\n",
       " 2223,\n",
       " 5244,\n",
       " 16,\n",
       " 480,\n",
       " 66,\n",
       " 3785,\n",
       " 33,\n",
       " 4,\n",
       " 130,\n",
       " 12,\n",
       " 16,\n",
       " 38,\n",
       " 619,\n",
       " 5,\n",
       " 25,\n",
       " 124,\n",
       " 51,\n",
       " 36,\n",
       " 135,\n",
       " 48,\n",
       " 25,\n",
       " 1415,\n",
       " 33,\n",
       " 6,\n",
       " 22,\n",
       " 12,\n",
       " 215,\n",
       " 28,\n",
       " 77,\n",
       " 52,\n",
       " 5,\n",
       " 14,\n",
       " 407,\n",
       " 16,\n",
       " 82,\n",
       " 2,\n",
       " 8,\n",
       " 4,\n",
       " 107,\n",
       " 117,\n",
       " 5952,\n",
       " 15,\n",
       " 256,\n",
       " 4,\n",
       " 2,\n",
       " 7,\n",
       " 3766,\n",
       " 5,\n",
       " 723,\n",
       " 36,\n",
       " 71,\n",
       " 43,\n",
       " 530,\n",
       " 476,\n",
       " 26,\n",
       " 400,\n",
       " 317,\n",
       " 46,\n",
       " 7,\n",
       " 4,\n",
       " 2,\n",
       " 1029,\n",
       " 13,\n",
       " 104,\n",
       " 88,\n",
       " 4,\n",
       " 381,\n",
       " 15,\n",
       " 297,\n",
       " 98,\n",
       " 32,\n",
       " 2071,\n",
       " 56,\n",
       " 26,\n",
       " 141,\n",
       " 6,\n",
       " 194,\n",
       " 7486,\n",
       " 18,\n",
       " 4,\n",
       " 226,\n",
       " 22,\n",
       " 21,\n",
       " 134,\n",
       " 476,\n",
       " 26,\n",
       " 480,\n",
       " 5,\n",
       " 144,\n",
       " 30,\n",
       " 5535,\n",
       " 18,\n",
       " 51,\n",
       " 36,\n",
       " 28,\n",
       " 224,\n",
       " 92,\n",
       " 25,\n",
       " 104,\n",
       " 4,\n",
       " 226,\n",
       " 65,\n",
       " 16,\n",
       " 38,\n",
       " 1334,\n",
       " 88,\n",
       " 12,\n",
       " 16,\n",
       " 283,\n",
       " 5,\n",
       " 16,\n",
       " 4472,\n",
       " 113,\n",
       " 103,\n",
       " 32,\n",
       " 15,\n",
       " 16,\n",
       " 5345,\n",
       " 19,\n",
       " 178,\n",
       " 32]"
      ]
     },
     "execution_count": 3,
     "metadata": {},
     "output_type": "execute_result"
    }
   ],
   "source": [
    "train_data[0]"
   ]
  },
  {
   "cell_type": "code",
   "execution_count": 4,
   "metadata": {},
   "outputs": [
    {
     "data": {
      "text/plain": [
       "1"
      ]
     },
     "execution_count": 4,
     "metadata": {},
     "output_type": "execute_result"
    }
   ],
   "source": [
    "train_labels[0]"
   ]
  },
  {
   "cell_type": "code",
   "execution_count": 6,
   "metadata": {},
   "outputs": [
    {
     "data": {
      "text/plain": [
       "9999"
      ]
     },
     "execution_count": 6,
     "metadata": {},
     "output_type": "execute_result"
    }
   ],
   "source": [
    "max([max(sequence) for sequence in train_data])"
   ]
  },
  {
   "cell_type": "code",
   "execution_count": 7,
   "metadata": {},
   "outputs": [
    {
     "name": "stdout",
     "output_type": "stream",
     "text": [
      "Downloading data from https://s3.amazonaws.com/text-datasets/imdb_word_index.json\n",
      "1646592/1641221 [==============================] - 1s 1us/step\n"
     ]
    }
   ],
   "source": [
    "#word_index 是一个将单词映射为整数索引的字典\n",
    "word_index = imdb.get_word_index()\n",
    "#键值颠倒，将整数索引映射为单词\n",
    "reversed_word_index = dict(\n",
    "    [(value, key) for (key, value) in word_index.items()])\n",
    "#将评论解码\n",
    "#注意，索引减去了3，因为0, 1, 2是为'padding'(填充)、'start of sequence'(序列开始)\n",
    "#'unknown'(未知词)分别保留的索引\n",
    "decoded_review=' '.join(\n",
    "    [reversed_word_index.get(i - 3, '?') for i in train_data[0]])"
   ]
  },
  {
   "cell_type": "code",
   "execution_count": 8,
   "metadata": {},
   "outputs": [
    {
     "data": {
      "text/plain": [
       "\"? this film was just brilliant casting location scenery story direction everyone's really suited the part they played and you could just imagine being there robert ? is an amazing actor and now the same being director ? father came from the same scottish island as myself so i loved the fact there was a real connection with this film the witty remarks throughout the film were great it was just brilliant so much that i bought the film as soon as it was released for ? and would recommend it to everyone to watch and the fly fishing was amazing really cried at the end it was so sad and you know what they say if you cry at a film it must have been good and this definitely was also ? to the two little boy's that played the ? of norman and paul they were just brilliant children are often left out of the ? list i think because the stars that play them all grown up are such a big profile for the whole film but these children are amazing and should be praised for what they have done don't you think the whole story was so lovely because it was true and was someone's life after all that was shared with us all\""
      ]
     },
     "execution_count": 8,
     "metadata": {},
     "output_type": "execute_result"
    }
   ],
   "source": [
    "decoded_review"
   ]
  },
  {
   "cell_type": "code",
   "execution_count": 9,
   "metadata": {},
   "outputs": [],
   "source": [
    "'''3_2 将整数序列编码为二进制矩阵\n",
    "2019_12_5\n",
    "'''\n",
    "import numpy as np\n",
    "def vectorize_sequences(sequences, dimension=10000):\n",
    "    #创建一个形状为(len(sequences), dimension)的零矩阵\n",
    "    results = np.zeros((len(sequences), dimension))\n",
    "    for i, sequence in enumerate(sequences):\n",
    "        #将results[i]的指定索引设为1\n",
    "        results[i, sequence] = 1.\n",
    "    return results\n",
    "\n",
    "#将训练数据向量化\n",
    "x_train = vectorize_sequences(train_data)\n",
    "#将测试数据向量化\n",
    "x_test = vectorize_sequences(test_data)"
   ]
  },
  {
   "cell_type": "code",
   "execution_count": 10,
   "metadata": {},
   "outputs": [
    {
     "data": {
      "text/plain": [
       "array([0., 1., 1., ..., 0., 0., 0.])"
      ]
     },
     "execution_count": 10,
     "metadata": {},
     "output_type": "execute_result"
    }
   ],
   "source": [
    "x_train[0]"
   ]
  },
  {
   "cell_type": "code",
   "execution_count": 11,
   "metadata": {},
   "outputs": [],
   "source": [
    "#将标签向量化\n",
    "y_train = np.asarray(train_labels).astype('float32')\n",
    "y_test = np.asarray(test_labels).astype('float32')"
   ]
  },
  {
   "cell_type": "code",
   "execution_count": 12,
   "metadata": {},
   "outputs": [
    {
     "name": "stdout",
     "output_type": "stream",
     "text": [
      "WARNING:tensorflow:From E:\\Anaconda\\lib\\site-packages\\tensorflow\\python\\framework\\op_def_library.py:263: colocate_with (from tensorflow.python.framework.ops) is deprecated and will be removed in a future version.\n",
      "Instructions for updating:\n",
      "Colocations handled automatically by placer.\n"
     ]
    }
   ],
   "source": [
    "'''3_3 模型定义\n",
    "2019_12_5\n",
    "'''\n",
    "from keras import models\n",
    "from keras import layers\n",
    "\n",
    "model = models.Sequential()\n",
    "model.add(layers.Dense(16, activation='relu', input_shape=(10000,)))\n",
    "model.add(layers.Dense(16, activation='relu'))\n",
    "model.add(layers.Dense(1, activation='sigmoid'))"
   ]
  },
  {
   "cell_type": "code",
   "execution_count": 13,
   "metadata": {},
   "outputs": [],
   "source": [
    "'''3_4 编译模型\n",
    "2019_12_5\n",
    "'''\n",
    "model.compile(optimizer='rmsprop',\n",
    "              loss='binary_crossentropy',\n",
    "                 metrics=['accuracy'])"
   ]
  },
  {
   "cell_type": "code",
   "execution_count": 14,
   "metadata": {},
   "outputs": [],
   "source": [
    "'''3_5 配置优化器\n",
    "2019_12_5\n",
    "'''\n",
    "from keras import optimizers\n",
    "model.compile(optimizer=optimizers.RMSprop(lr=0.001),\n",
    "              loss='binary_crossentropy',\n",
    "              metrics=['accuracy'])"
   ]
  },
  {
   "cell_type": "code",
   "execution_count": 15,
   "metadata": {},
   "outputs": [],
   "source": [
    "'''3_6 使用自定义的损失和指标\n",
    "2019_12_5\n",
    "'''\n",
    "from keras import losses\n",
    "from keras import metrics\n",
    "\n",
    "model.compile(optimizer=optimizers.RMSprop(lr=0.001),\n",
    "              loss=losses.binary_crossentropy,\n",
    "              metrics=[metrics.binary_accuracy])"
   ]
  },
  {
   "cell_type": "code",
   "execution_count": 16,
   "metadata": {},
   "outputs": [],
   "source": [
    "'''3_7 留出验证集\n",
    "2019_12_5\n",
    "'''\n",
    "x_val = x_train[:10000]\n",
    "partial_x_train = x_train[10000:]\n",
    "\n",
    "y_val = y_train[:10000]\n",
    "partial_y_train = y_train[10000:]"
   ]
  },
  {
   "cell_type": "code",
   "execution_count": 17,
   "metadata": {},
   "outputs": [
    {
     "name": "stdout",
     "output_type": "stream",
     "text": [
      "WARNING:tensorflow:From E:\\Anaconda\\lib\\site-packages\\tensorflow\\python\\ops\\math_ops.py:3066: to_int32 (from tensorflow.python.ops.math_ops) is deprecated and will be removed in a future version.\n",
      "Instructions for updating:\n",
      "Use tf.cast instead.\n",
      "Train on 15000 samples, validate on 10000 samples\n",
      "Epoch 1/20\n",
      "15000/15000 [==============================] - 4s 242us/step - loss: 0.5059 - acc: 0.7854 - val_loss: 0.3781 - val_acc: 0.8702\n",
      "Epoch 2/20\n",
      "15000/15000 [==============================] - 3s 178us/step - loss: 0.2995 - acc: 0.9040 - val_loss: 0.3000 - val_acc: 0.8900\n",
      "Epoch 3/20\n",
      "15000/15000 [==============================] - 3s 181us/step - loss: 0.2173 - acc: 0.9287 - val_loss: 0.3092 - val_acc: 0.8709\n",
      "Epoch 4/20\n",
      "15000/15000 [==============================] - 3s 181us/step - loss: 0.1745 - acc: 0.9439 - val_loss: 0.2839 - val_acc: 0.8838s - loss: 0.1757 - acc: 0.94\n",
      "Epoch 5/20\n",
      "15000/15000 [==============================] - 3s 181us/step - loss: 0.1419 - acc: 0.9544 - val_loss: 0.2856 - val_acc: 0.8860\n",
      "Epoch 6/20\n",
      "15000/15000 [==============================] - 3s 181us/step - loss: 0.1146 - acc: 0.9651 - val_loss: 0.3130 - val_acc: 0.8788\n",
      "Epoch 7/20\n",
      "15000/15000 [==============================] - 3s 183us/step - loss: 0.0975 - acc: 0.9711 - val_loss: 0.3134 - val_acc: 0.8843\n",
      "Epoch 8/20\n",
      "15000/15000 [==============================] - 3s 182us/step - loss: 0.0803 - acc: 0.9767 - val_loss: 0.3870 - val_acc: 0.8652\n",
      "Epoch 9/20\n",
      "15000/15000 [==============================] - 3s 182us/step - loss: 0.0658 - acc: 0.9819 - val_loss: 0.3648 - val_acc: 0.8778\n",
      "Epoch 10/20\n",
      "15000/15000 [==============================] - 3s 183us/step - loss: 0.0555 - acc: 0.9850 - val_loss: 0.3868 - val_acc: 0.8774\n",
      "Epoch 11/20\n",
      "15000/15000 [==============================] - 3s 181us/step - loss: 0.0431 - acc: 0.9900 - val_loss: 0.4205 - val_acc: 0.8762\n",
      "Epoch 12/20\n",
      "15000/15000 [==============================] - 3s 187us/step - loss: 0.0380 - acc: 0.9911 - val_loss: 0.4562 - val_acc: 0.8694\n",
      "Epoch 13/20\n",
      "15000/15000 [==============================] - 3s 183us/step - loss: 0.0287 - acc: 0.9935 - val_loss: 0.4747 - val_acc: 0.8732\n",
      "Epoch 14/20\n",
      "15000/15000 [==============================] - 3s 181us/step - loss: 0.0249 - acc: 0.9947 - val_loss: 0.5076 - val_acc: 0.8718\n",
      "Epoch 15/20\n",
      "15000/15000 [==============================] - 3s 186us/step - loss: 0.0164 - acc: 0.9986 - val_loss: 0.5494 - val_acc: 0.8683\n",
      "Epoch 16/20\n",
      "15000/15000 [==============================] - 3s 185us/step - loss: 0.0157 - acc: 0.9977 - val_loss: 0.5794 - val_acc: 0.8692\n",
      "Epoch 17/20\n",
      "15000/15000 [==============================] - 3s 183us/step - loss: 0.0113 - acc: 0.9989 - val_loss: 0.6200 - val_acc: 0.8674\n",
      "Epoch 18/20\n",
      "15000/15000 [==============================] - 3s 181us/step - loss: 0.0113 - acc: 0.9976 - val_loss: 0.6414 - val_acc: 0.8676\n",
      "Epoch 19/20\n",
      "15000/15000 [==============================] - 3s 184us/step - loss: 0.0059 - acc: 0.9996 - val_loss: 0.7548 - val_acc: 0.8533\n",
      "Epoch 20/20\n",
      "15000/15000 [==============================] - 3s 185us/step - loss: 0.0064 - acc: 0.9993 - val_loss: 0.7035 - val_acc: 0.8665\n"
     ]
    }
   ],
   "source": [
    "'''3_8 训练模型\n",
    "2019_12_5\n",
    "'''\n",
    "model.compile(optimizer='rmsprop',\n",
    "              loss='binary_crossentropy',\n",
    "              metrics=['acc'])\n",
    "history = model.fit(partial_x_train,\n",
    "                    partial_y_train,\n",
    "                    epochs=20,\n",
    "                    batch_size=512,\n",
    "                    validation_data=(x_val, y_val))"
   ]
  },
  {
   "cell_type": "code",
   "execution_count": 18,
   "metadata": {},
   "outputs": [],
   "source": [
    "history_dict = history.history"
   ]
  },
  {
   "cell_type": "code",
   "execution_count": 19,
   "metadata": {},
   "outputs": [
    {
     "data": {
      "text/plain": [
       "dict_keys(['val_loss', 'val_acc', 'loss', 'acc'])"
      ]
     },
     "execution_count": 19,
     "metadata": {},
     "output_type": "execute_result"
    }
   ],
   "source": [
    "history_dict.keys()"
   ]
  },
  {
   "cell_type": "code",
   "execution_count": 21,
   "metadata": {},
   "outputs": [
    {
     "data": {
      "image/png": "[encoded data removed]",
      "text/plain": [
       "<Figure size 432x288 with 1 Axes>"
      ]
     },
     "metadata": {
      "needs_background": "light"
     },
     "output_type": "display_data"
    }
   ],
   "source": [
    "'''3_9 绘制训练损失和验证损失\n",
    "2019_12_5\n",
    "'''\n",
    "import matplotlib.pyplot as plt\n",
    "\n",
    "history_dict = history.history\n",
    "loss_values = history_dict['loss']\n",
    "val_loss_values = history_dict['val_loss']\n",
    "\n",
    "epochs = range(1, len(loss_values) + 1)\n",
    "\n",
    "#'bo表示蓝色圆点\n",
    "plt.plot(epochs, loss_values, 'bo', label='Training loss')\n",
    "#'b'表示蓝色实线\n",
    "plt.plot(epochs, val_loss_values, 'b', label='Validation loss')\n",
    "plt.title('Training and validation loss')\n",
    "plt.xlabel('Epochs')\n",
    "plt.ylabel('Loss')\n",
    "plt.legend()\n",
    "\n",
    "plt.show()"
   ]
  },
  {
   "cell_type": "code",
   "execution_count": 23,
   "metadata": {},
   "outputs": [
    {
     "data": {
      "image/png": "[encoded data removed]",
      "text/plain": [
       "<Figure size 432x288 with 1 Axes>"
      ]
     },
     "metadata": {
      "needs_background": "light"
     },
     "output_type": "display_data"
    }
   ],
   "source": [
    "'''3_10 绘制训练精度和验证精度\n",
    "2019_12_5\n",
    "'''\n",
    "#清空图像\n",
    "plt.clf()\n",
    "acc = history_dict['acc']\n",
    "val_acc = history_dict['val_acc']\n",
    "\n",
    "plt.plot(epochs, acc, 'bo', label='Training acc')\n",
    "plt.plot(epochs, val_acc, 'b', label='Validation acc')\n",
    "plt.title('Training and validation accuracy')\n",
    "plt.xlabel('Epochs')\n",
    "plt.ylabel('Accuracy')\n",
    "plt.legend()\n",
    "\n",
    "plt.show()"
   ]
  },
  {
   "cell_type": "code",
   "execution_count": 36,
   "metadata": {},
   "outputs": [
    {
     "name": "stdout",
     "output_type": "stream",
     "text": [
      "Epoch 1/4\n",
      "25000/25000 [==============================] - 4s 177us/step - loss: 0.1378 - acc: 0.8096\n",
      "Epoch 2/4\n",
      "25000/25000 [==============================] - 4s 155us/step - loss: 0.0702 - acc: 0.9123\n",
      "Epoch 3/4\n",
      "25000/25000 [==============================] - 4s 157us/step - loss: 0.0514 - acc: 0.9342\n",
      "Epoch 4/4\n",
      "25000/25000 [==============================] - 4s 154us/step - loss: 0.0419 - acc: 0.9479\n",
      "25000/25000 [==============================] - 4s 170us/step\n"
     ]
    }
   ],
   "source": [
    "'''3_11 从头开始重新训练一个模型\n",
    "2019_12_5\n",
    "'''\n",
    "model = models.Sequential()\n",
    "model.add(layers.Dense(64, activation='relu', input_shape=(10000,)))\n",
    "model.add(layers.Dense(64, activation='relu'))\n",
    "model.add(layers.Dense(1, activation='sigmoid'))\n",
    "\n",
    "model.compile(optimizer='rmsprop',\n",
    "              loss='mse',\n",
    "              metrics=['accuracy'])\n",
    "\n",
    "model.fit(x_train, y_train, epochs=4, batch_size=512)\n",
    "results = model.evaluate(x_test, y_test)"
   ]
  },
  {
   "cell_type": "code",
   "execution_count": 35,
   "metadata": {},
   "outputs": [
    {
     "data": {
      "text/plain": [
       "[0.3790944742870331, 0.86088]"
      ]
     },
     "execution_count": 35,
     "metadata": {},
     "output_type": "execute_result"
    }
   ],
   "source": [
    "results"
   ]
  },
  {
   "cell_type": "code",
   "execution_count": 28,
   "metadata": {},
   "outputs": [
    {
     "data": {
      "text/plain": [
       "array([[1.35876268e-01],\n",
       "       [9.99714255e-01],\n",
       "       [2.90037751e-01],\n",
       "       [6.51413560e-01],\n",
       "       [9.25238431e-01],\n",
       "       [6.70618176e-01],\n",
       "       [9.98224914e-01],\n",
       "       [6.35352731e-03],\n",
       "       [9.34954762e-01],\n",
       "       [9.84837234e-01],\n",
       "       [8.20984542e-01],\n",
       "       [3.73342633e-03],\n",
       "       [1.33901834e-04],\n",
       "       [5.62509894e-03],\n",
       "       [9.94111478e-01],\n",
       "       [1.68889761e-04],\n",
       "       [8.77228856e-01],\n",
       "       [5.89982927e-01],\n",
       "       [4.23038006e-03],\n",
       "       [4.29499745e-02],\n",
       "       [9.93262053e-01],\n",
       "       [9.89768982e-01],\n",
       "       [1.28844857e-01],\n",
       "       [8.85753870e-01],\n",
       "       [7.33705819e-01],\n",
       "       [9.57502007e-01],\n",
       "       [8.99541378e-03],\n",
       "       [9.10199583e-01],\n",
       "       [9.06570673e-01],\n",
       "       [3.70621681e-04],\n",
       "       [9.66448665e-01],\n",
       "       [7.71259069e-02],\n",
       "       [8.70252967e-01],\n",
       "       [3.51667404e-06],\n",
       "       [1.88063085e-02],\n",
       "       [1.03459656e-02],\n",
       "       [9.98602033e-01],\n",
       "       [9.47831035e-01],\n",
       "       [8.19821060e-02],\n",
       "       [1.08597875e-02],\n",
       "       [9.68907952e-01],\n",
       "       [9.97654021e-01],\n",
       "       [8.48177075e-03],\n",
       "       [8.39406729e-01],\n",
       "       [9.99813080e-01],\n",
       "       [9.34613705e-01],\n",
       "       [2.61297226e-02],\n",
       "       [7.19398260e-04],\n",
       "       [9.49507952e-03],\n",
       "       [1.16639555e-01],\n",
       "       [1.47101283e-03],\n",
       "       [1.60324425e-01],\n",
       "       [7.18952656e-01],\n",
       "       [9.23105717e-01],\n",
       "       [8.49106431e-01],\n",
       "       [1.37092948e-01],\n",
       "       [3.94617856e-01],\n",
       "       [5.65972090e-01],\n",
       "       [2.92092562e-03],\n",
       "       [5.41061997e-01],\n",
       "       [7.79259801e-02],\n",
       "       [2.35503316e-02],\n",
       "       [8.72333825e-01],\n",
       "       [2.96370089e-02],\n",
       "       [1.40548944e-02],\n",
       "       [9.97750759e-01],\n",
       "       [2.21192837e-03],\n",
       "       [9.37512517e-01],\n",
       "       [9.98390853e-01],\n",
       "       [9.12178278e-01],\n",
       "       [9.17538524e-01],\n",
       "       [9.92458880e-01],\n",
       "       [5.04797399e-01],\n",
       "       [9.13709402e-03],\n",
       "       [1.54905915e-02],\n",
       "       [1.36668295e-01],\n",
       "       [2.32240558e-03],\n",
       "       [8.17278385e-01],\n",
       "       [5.39825320e-01],\n",
       "       [5.21964133e-02],\n",
       "       [3.98368597e-01],\n",
       "       [6.12008572e-02],\n",
       "       [5.82391798e-01],\n",
       "       [7.44390130e-01],\n",
       "       [2.63807178e-03],\n",
       "       [2.01371312e-03],\n",
       "       [2.75992453e-02],\n",
       "       [6.94698691e-01],\n",
       "       [5.08564711e-03],\n",
       "       [7.37168908e-01],\n",
       "       [9.99423981e-01],\n",
       "       [4.55576926e-01],\n",
       "       [3.58254910e-02],\n",
       "       [9.98545825e-01],\n",
       "       [9.98580635e-01],\n",
       "       [3.32479775e-02],\n",
       "       [8.70912790e-01],\n",
       "       [9.82776403e-01],\n",
       "       [4.77229655e-02],\n",
       "       [5.84360957e-03]], dtype=float32)"
      ]
     },
     "execution_count": 28,
     "metadata": {},
     "output_type": "execute_result"
    }
   ],
   "source": [
    "#预测评论是否为正面\n",
    "model.predict(x_test[:100])"
   ]
  },
  {
   "cell_type": "code",
   "execution_count": null,
   "metadata": {},
   "outputs": [],
   "source": []
  },
  {
   "cell_type": "code",
   "execution_count": null,
   "metadata": {},
   "outputs": [],
   "source": []
  },
  {
   "cell_type": "code",
   "execution_count": null,
   "metadata": {},
   "outputs": [],
   "source": []
  },
  {
   "cell_type": "code",
   "execution_count": null,
   "metadata": {},
   "outputs": [],
   "source": []
  },
  {
   "cell_type": "code",
   "execution_count": null,
   "metadata": {},
   "outputs": [],
   "source": []
  }
 ],
 "metadata": {
  "kernelspec": {
   "display_name": "Python 3",
   "language": "python",
   "name": "python3"
  },
  "language_info": {
   "codemirror_mode": {
    "name": "ipython",
    "version": 3
   },
   "file_extension": ".py",
   "mimetype": "text/x-python",
   "name": "python",
   "nbconvert_exporter": "python",
   "pygments_lexer": "ipython3",
   "version": "3.7.1"
  }
 },
 "nbformat": 4,
 "nbformat_minor": 2
}
