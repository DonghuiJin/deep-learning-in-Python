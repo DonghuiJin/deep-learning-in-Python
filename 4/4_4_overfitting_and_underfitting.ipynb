{
 "cells": [
  {
   "cell_type": "code",
   "execution_count": 1,
   "metadata": {},
   "outputs": [
    {
     "name": "stderr",
     "output_type": "stream",
     "text": [
      "Using TensorFlow backend.\n"
     ]
    }
   ],
   "source": [
    "import keras"
   ]
  },
  {
   "cell_type": "code",
   "execution_count": 2,
   "metadata": {},
   "outputs": [],
   "source": [
    "from keras.datasets import imdb\n",
    "import numpy as np\n",
    "\n",
    "(train_data, train_labels), (test_data, test_labels) = imdb.load_data(num_words=10000)\n",
    "\n",
    "def vectorize_sequences(sequences, dimension=10000):\n",
    "    # Create an all-zero matrix of shape (len(sequences), dimension)\n",
    "    results = np.zeros((len(sequences), dimension))\n",
    "    for i, sequence in enumerate(sequences):\n",
    "        results[i, sequence] = 1.  # set specific indices of results[i] to 1s\n",
    "    return results\n",
    "\n",
    "# Our vectorized training data\n",
    "x_train = vectorize_sequences(train_data)\n",
    "# Our vectorized test data\n",
    "x_test = vectorize_sequences(test_data)\n",
    "# Our vectorized labels\n",
    "y_train = np.asarray(train_labels).astype('float32')\n",
    "y_test = np.asarray(test_labels).astype('float32')"
   ]
  },
  {
   "cell_type": "code",
   "execution_count": 3,
   "metadata": {},
   "outputs": [
    {
     "name": "stdout",
     "output_type": "stream",
     "text": [
      "WARNING:tensorflow:From E:\\Anaconda\\lib\\site-packages\\tensorflow\\python\\framework\\op_def_library.py:263: colocate_with (from tensorflow.python.framework.ops) is deprecated and will be removed in a future version.\n",
      "Instructions for updating:\n",
      "Colocations handled automatically by placer.\n"
     ]
    }
   ],
   "source": [
    "from keras import models\n",
    "from keras import layers\n",
    "\n",
    "original_model = models.Sequential()\n",
    "original_model.add(layers.Dense(16, activation='relu', input_shape=(10000,)))\n",
    "original_model.add(layers.Dense(16, activation='relu'))\n",
    "original_model.add(layers.Dense(1, activation='sigmoid'))\n",
    "\n",
    "original_model.compile(optimizer='rmsprop',\n",
    "                       loss='binary_crossentropy',\n",
    "                       metrics=['acc'])"
   ]
  },
  {
   "cell_type": "code",
   "execution_count": 4,
   "metadata": {},
   "outputs": [],
   "source": [
    "from keras import models\n",
    "from keras import layers\n",
    "\n",
    "original_model = models.Sequential()\n",
    "original_model.add(layers.Dense(16, activation='relu', input_shape=(10000,)))\n",
    "original_model.add(layers.Dense(16, activation='relu'))\n",
    "original_model.add(layers.Dense(1, activation='sigmoid'))\n",
    "\n",
    "original_model.compile(optimizer='rmsprop',\n",
    "                       loss='binary_crossentropy',\n",
    "                       metrics=['acc'])"
   ]
  },
  {
   "cell_type": "code",
   "execution_count": 7,
   "metadata": {},
   "outputs": [],
   "source": [
    "#使用尺度更小的网络\n",
    "smaller_model = models.Sequential()\n",
    "smaller_model.add(layers.Dense(4, activation='relu', input_shape=(10000,)))\n",
    "smaller_model.add(layers.Dense(4, activation='relu'))\n",
    "smaller_model.add(layers.Dense(1, activation='sigmoid'))\n",
    "\n",
    "smaller_model.compile(optimizer='rmsprop',\n",
    "                      loss='binary_crossentropy',\n",
    "                      metrics=['acc'])"
   ]
  },
  {
   "cell_type": "code",
   "execution_count": 5,
   "metadata": {},
   "outputs": [
    {
     "name": "stdout",
     "output_type": "stream",
     "text": [
      "WARNING:tensorflow:From E:\\Anaconda\\lib\\site-packages\\tensorflow\\python\\ops\\math_ops.py:3066: to_int32 (from tensorflow.python.ops.math_ops) is deprecated and will be removed in a future version.\n",
      "Instructions for updating:\n",
      "Use tf.cast instead.\n",
      "Train on 25000 samples, validate on 25000 samples\n",
      "Epoch 1/20\n",
      "25000/25000 [==============================] - 7s 264us/step - loss: 0.4568 - acc: 0.8241 - val_loss: 0.3431 - val_acc: 0.8789\n",
      "Epoch 2/20\n",
      "25000/25000 [==============================] - 5s 215us/step - loss: 0.2694 - acc: 0.9065 - val_loss: 0.2902 - val_acc: 0.8878\n",
      "Epoch 3/20\n",
      "25000/25000 [==============================] - 5s 211us/step - loss: 0.2063 - acc: 0.9280 - val_loss: 0.2833 - val_acc: 0.8868\n",
      "Epoch 4/20\n",
      "25000/25000 [==============================] - 5s 209us/step - loss: 0.1712 - acc: 0.9407 - val_loss: 0.2888 - val_acc: 0.8856\n",
      "Epoch 5/20\n",
      "25000/25000 [==============================] - 5s 210us/step - loss: 0.1453 - acc: 0.9501 - val_loss: 0.3051 - val_acc: 0.8815\n",
      "Epoch 6/20\n",
      "25000/25000 [==============================] - 5s 209us/step - loss: 0.1270 - acc: 0.9562 - val_loss: 0.3356 - val_acc: 0.8748\n",
      "Epoch 7/20\n",
      "25000/25000 [==============================] - 5s 210us/step - loss: 0.1119 - acc: 0.9621 - val_loss: 0.3492 - val_acc: 0.8745\n",
      "Epoch 8/20\n",
      "25000/25000 [==============================] - 5s 213us/step - loss: 0.0975 - acc: 0.9673 - val_loss: 0.3807 - val_acc: 0.8687\n",
      "Epoch 9/20\n",
      "25000/25000 [==============================] - 5s 212us/step - loss: 0.0837 - acc: 0.9729 - val_loss: 0.4090 - val_acc: 0.8678\n",
      "Epoch 10/20\n",
      "25000/25000 [==============================] - 5s 213us/step - loss: 0.0735 - acc: 0.9772 - val_loss: 0.4397 - val_acc: 0.8614\n",
      "Epoch 11/20\n",
      "25000/25000 [==============================] - 5s 216us/step - loss: 0.0664 - acc: 0.9799 - val_loss: 0.4675 - val_acc: 0.8592\n",
      "Epoch 12/20\n",
      "25000/25000 [==============================] - 5s 219us/step - loss: 0.0543 - acc: 0.9846 - val_loss: 0.4952 - val_acc: 0.8584\n",
      "Epoch 13/20\n",
      "25000/25000 [==============================] - 5s 217us/step - loss: 0.0478 - acc: 0.9858 - val_loss: 0.5200 - val_acc: 0.8613\n",
      "Epoch 14/20\n",
      "25000/25000 [==============================] - 5s 218us/step - loss: 0.0409 - acc: 0.9887 - val_loss: 0.5498 - val_acc: 0.8562\n",
      "Epoch 15/20\n",
      "25000/25000 [==============================] - 6s 221us/step - loss: 0.0334 - acc: 0.9907 - val_loss: 0.6104 - val_acc: 0.8556\n",
      "Epoch 16/20\n",
      "25000/25000 [==============================] - 5s 219us/step - loss: 0.0283 - acc: 0.9927 - val_loss: 0.6175 - val_acc: 0.8534\n",
      "Epoch 17/20\n",
      "25000/25000 [==============================] - 5s 215us/step - loss: 0.0238 - acc: 0.9943 - val_loss: 0.6498 - val_acc: 0.8542\n",
      "Epoch 18/20\n",
      "25000/25000 [==============================] - 5s 214us/step - loss: 0.0182 - acc: 0.9962 - val_loss: 0.6920 - val_acc: 0.8536\n",
      "Epoch 19/20\n",
      "25000/25000 [==============================] - 5s 214us/step - loss: 0.0178 - acc: 0.9953 - val_loss: 0.7221 - val_acc: 0.8520\n",
      "Epoch 20/20\n",
      "25000/25000 [==============================] - 5s 217us/step - loss: 0.0125 - acc: 0.9973 - val_loss: 0.7616 - val_acc: 0.8518\n"
     ]
    }
   ],
   "source": [
    "#老模型训练\n",
    "original_hist = original_model.fit(x_train, y_train,\n",
    "                                   epochs=20,\n",
    "                                   batch_size=512,\n",
    "                                   validation_data=(x_test, y_test))"
   ]
  },
  {
   "cell_type": "code",
   "execution_count": 8,
   "metadata": {},
   "outputs": [
    {
     "name": "stdout",
     "output_type": "stream",
     "text": [
      "Train on 25000 samples, validate on 25000 samples\n",
      "Epoch 1/20\n",
      "25000/25000 [==============================] - 6s 226us/step - loss: 0.5232 - acc: 0.8066 - val_loss: 0.4189 - val_acc: 0.8670\n",
      "Epoch 2/20\n",
      "25000/25000 [==============================] - 5s 197us/step - loss: 0.3370 - acc: 0.8970 - val_loss: 0.3340 - val_acc: 0.8819\n",
      "Epoch 3/20\n",
      "25000/25000 [==============================] - 5s 197us/step - loss: 0.2583 - acc: 0.9165 - val_loss: 0.2935 - val_acc: 0.8893\n",
      "Epoch 4/20\n",
      "25000/25000 [==============================] - 5s 199us/step - loss: 0.2153 - acc: 0.9284 - val_loss: 0.2811 - val_acc: 0.8892\n",
      "Epoch 5/20\n",
      "25000/25000 [==============================] - 5s 198us/step - loss: 0.1867 - acc: 0.9379 - val_loss: 0.2872 - val_acc: 0.8841\n",
      "Epoch 6/20\n",
      "25000/25000 [==============================] - 5s 197us/step - loss: 0.1665 - acc: 0.9435 - val_loss: 0.2832 - val_acc: 0.8863\n",
      "Epoch 7/20\n",
      "25000/25000 [==============================] - 5s 201us/step - loss: 0.1506 - acc: 0.9501 - val_loss: 0.2901 - val_acc: 0.8848\n",
      "Epoch 8/20\n",
      "25000/25000 [==============================] - 5s 203us/step - loss: 0.1370 - acc: 0.9546 - val_loss: 0.3007 - val_acc: 0.8821\n",
      "Epoch 9/20\n",
      "25000/25000 [==============================] - 5s 197us/step - loss: 0.1261 - acc: 0.9582 - val_loss: 0.3119 - val_acc: 0.8800\n",
      "Epoch 10/20\n",
      "25000/25000 [==============================] - 5s 199us/step - loss: 0.1165 - acc: 0.9621 - val_loss: 0.3360 - val_acc: 0.8735\n",
      "Epoch 11/20\n",
      "25000/25000 [==============================] - 5s 205us/step - loss: 0.1083 - acc: 0.9657 - val_loss: 0.3394 - val_acc: 0.8760ss: 0.1070 - \n",
      "Epoch 12/20\n",
      "25000/25000 [==============================] - 5s 200us/step - loss: 0.1004 - acc: 0.9690 - val_loss: 0.3562 - val_acc: 0.8718\n",
      "Epoch 13/20\n",
      "25000/25000 [==============================] - 5s 201us/step - loss: 0.0928 - acc: 0.9723 - val_loss: 0.3684 - val_acc: 0.8717\n",
      "Epoch 14/20\n",
      "25000/25000 [==============================] - 5s 199us/step - loss: 0.0872 - acc: 0.9739 - val_loss: 0.3878 - val_acc: 0.8691\n",
      "Epoch 15/20\n",
      "25000/25000 [==============================] - 5s 199us/step - loss: 0.0809 - acc: 0.9759 - val_loss: 0.4032 - val_acc: 0.8670\n",
      "Epoch 16/20\n",
      "25000/25000 [==============================] - 5s 199us/step - loss: 0.0756 - acc: 0.9777 - val_loss: 0.4190 - val_acc: 0.8652\n",
      "Epoch 17/20\n",
      "25000/25000 [==============================] - 5s 199us/step - loss: 0.0699 - acc: 0.9805 - val_loss: 0.4376 - val_acc: 0.8647\n",
      "Epoch 18/20\n",
      "25000/25000 [==============================] - 5s 203us/step - loss: 0.0650 - acc: 0.9822 - val_loss: 0.4566 - val_acc: 0.8635\n",
      "Epoch 19/20\n",
      "25000/25000 [==============================] - 5s 200us/step - loss: 0.0604 - acc: 0.9840 - val_loss: 0.4766 - val_acc: 0.8614\n",
      "Epoch 20/20\n",
      "25000/25000 [==============================] - 5s 199us/step - loss: 0.0562 - acc: 0.9848 - val_loss: 0.4968 - val_acc: 0.8588\n"
     ]
    }
   ],
   "source": [
    "#尺寸小一些的网络的训练\n",
    "smaller_model_hist = smaller_model.fit(x_train, y_train,\n",
    "                                       epochs=20,\n",
    "                                       batch_size=512,\n",
    "                                       validation_data=(x_test, y_test))"
   ]
  },
  {
   "cell_type": "code",
   "execution_count": 9,
   "metadata": {},
   "outputs": [],
   "source": [
    "epochs = range(1, 21)\n",
    "original_val_loss = original_hist.history['val_loss']\n",
    "smaller_model_val_loss = smaller_model_hist.history['val_loss']"
   ]
  },
  {
   "cell_type": "code",
   "execution_count": 11,
   "metadata": {},
   "outputs": [
    {
     "data": {
      "image/png": "[encoded data removed]",
      "text/plain": [
       "<Figure size 432x288 with 1 Axes>"
      ]
     },
     "metadata": {
      "needs_background": "light"
     },
     "output_type": "display_data"
    }
   ],
   "source": [
    "import matplotlib.pyplot as plt\n",
    "plt.plot(epochs, original_val_loss, 'b+', label='Original model')\n",
    "plt.plot(epochs, smaller_model_val_loss, 'bo', label='Smaller model')\n",
    "plt.xlabel('Epochs')\n",
    "plt.ylabel('Validation loss')\n",
    "plt.legend()\n",
    "\n",
    "plt.show()"
   ]
  },
  {
   "cell_type": "code",
   "execution_count": 12,
   "metadata": {},
   "outputs": [],
   "source": [
    "#创建更大的模型\n",
    "bigger_model = models.Sequential()\n",
    "bigger_model.add(layers.Dense(512, activation='relu', input_shape=(10000,)))\n",
    "bigger_model.add(layers.Dense(512, activation='relu'))\n",
    "bigger_model.add(layers.Dense(1, activation='sigmoid'))\n",
    "\n",
    "bigger_model.compile(optimizer='rmsprop',\n",
    "                     loss='binary_crossentropy',\n",
    "                     metrics=['acc'])"
   ]
  },
  {
   "cell_type": "code",
   "execution_count": 13,
   "metadata": {
    "scrolled": true
   },
   "outputs": [
    {
     "name": "stdout",
     "output_type": "stream",
     "text": [
      "Train on 25000 samples, validate on 25000 samples\n",
      "Epoch 1/20\n",
      "25000/25000 [==============================] - 21s 849us/step - loss: 0.4644 - acc: 0.7938 - val_loss: 0.2875 - val_acc: 0.8872\n",
      "Epoch 2/20\n",
      "25000/25000 [==============================] - 21s 850us/step - loss: 0.2239 - acc: 0.9123 - val_loss: 0.3400 - val_acc: 0.8591\n",
      "Epoch 3/20\n",
      "25000/25000 [==============================] - 21s 825us/step - loss: 0.1351 - acc: 0.9489 - val_loss: 0.3449 - val_acc: 0.8737\n",
      "Epoch 4/20\n",
      "25000/25000 [==============================] - 21s 830us/step - loss: 0.0772 - acc: 0.9789 - val_loss: 0.3821 - val_acc: 0.8836\n",
      "Epoch 5/20\n",
      "25000/25000 [==============================] - 21s 823us/step - loss: 0.0519 - acc: 0.9882 - val_loss: 0.4914 - val_acc: 0.8834\n",
      "Epoch 6/20\n",
      "25000/25000 [==============================] - 20s 819us/step - loss: 0.0627 - acc: 0.9890 - val_loss: 0.4743 - val_acc: 0.8765\n",
      "Epoch 7/20\n",
      "25000/25000 [==============================] - 20s 816us/step - loss: 0.0013 - acc: 1.0000 - val_loss: 0.6657 - val_acc: 0.8798\n",
      "Epoch 8/20\n",
      "25000/25000 [==============================] - 20s 809us/step - loss: 1.2631e-04 - acc: 1.0000 - val_loss: 0.7916 - val_acc: 0.8804\n",
      "Epoch 9/20\n",
      "18944/25000 [=====================>........] - ETA: 3s - loss: 1.2387e-05 - acc: 1.0000"
     ]
    },
    {
     "ename": "KeyboardInterrupt",
     "evalue": "",
     "output_type": "error",
     "traceback": [
      "\u001b[1;31m---------------------------------------------------------------------------\u001b[0m",
      "\u001b[1;31mKeyboardInterrupt\u001b[0m                         Traceback (most recent call last)",
      "\u001b[1;32m<ipython-input-13-e51c05fefad2>\u001b[0m in \u001b[0;36m<module>\u001b[1;34m\u001b[0m\n\u001b[0;32m      2\u001b[0m                                      \u001b[0mepochs\u001b[0m\u001b[1;33m=\u001b[0m\u001b[1;36m20\u001b[0m\u001b[1;33m,\u001b[0m\u001b[1;33m\u001b[0m\u001b[1;33m\u001b[0m\u001b[0m\n\u001b[0;32m      3\u001b[0m                                      \u001b[0mbatch_size\u001b[0m\u001b[1;33m=\u001b[0m\u001b[1;36m512\u001b[0m\u001b[1;33m,\u001b[0m\u001b[1;33m\u001b[0m\u001b[1;33m\u001b[0m\u001b[0m\n\u001b[1;32m----> 4\u001b[1;33m                                      validation_data=(x_test, y_test))\n\u001b[0m",
      "\u001b[1;32mE:\\Anaconda\\lib\\site-packages\\keras\\engine\\training.py\u001b[0m in \u001b[0;36mfit\u001b[1;34m(self, x, y, batch_size, epochs, verbose, callbacks, validation_split, validation_data, shuffle, class_weight, sample_weight, initial_epoch, steps_per_epoch, validation_steps, **kwargs)\u001b[0m\n\u001b[0;32m   1037\u001b[0m                                         \u001b[0minitial_epoch\u001b[0m\u001b[1;33m=\u001b[0m\u001b[0minitial_epoch\u001b[0m\u001b[1;33m,\u001b[0m\u001b[1;33m\u001b[0m\u001b[1;33m\u001b[0m\u001b[0m\n\u001b[0;32m   1038\u001b[0m                                         \u001b[0msteps_per_epoch\u001b[0m\u001b[1;33m=\u001b[0m\u001b[0msteps_per_epoch\u001b[0m\u001b[1;33m,\u001b[0m\u001b[1;33m\u001b[0m\u001b[1;33m\u001b[0m\u001b[0m\n\u001b[1;32m-> 1039\u001b[1;33m                                         validation_steps=validation_steps)\n\u001b[0m\u001b[0;32m   1040\u001b[0m \u001b[1;33m\u001b[0m\u001b[0m\n\u001b[0;32m   1041\u001b[0m     def evaluate(self, x=None, y=None,\n",
      "\u001b[1;32mE:\\Anaconda\\lib\\site-packages\\keras\\engine\\training_arrays.py\u001b[0m in \u001b[0;36mfit_loop\u001b[1;34m(model, f, ins, out_labels, batch_size, epochs, verbose, callbacks, val_f, val_ins, shuffle, callback_metrics, initial_epoch, steps_per_epoch, validation_steps)\u001b[0m\n\u001b[0;32m    197\u001b[0m                     \u001b[0mins_batch\u001b[0m\u001b[1;33m[\u001b[0m\u001b[0mi\u001b[0m\u001b[1;33m]\u001b[0m \u001b[1;33m=\u001b[0m \u001b[0mins_batch\u001b[0m\u001b[1;33m[\u001b[0m\u001b[0mi\u001b[0m\u001b[1;33m]\u001b[0m\u001b[1;33m.\u001b[0m\u001b[0mtoarray\u001b[0m\u001b[1;33m(\u001b[0m\u001b[1;33m)\u001b[0m\u001b[1;33m\u001b[0m\u001b[1;33m\u001b[0m\u001b[0m\n\u001b[0;32m    198\u001b[0m \u001b[1;33m\u001b[0m\u001b[0m\n\u001b[1;32m--> 199\u001b[1;33m                 \u001b[0mouts\u001b[0m \u001b[1;33m=\u001b[0m \u001b[0mf\u001b[0m\u001b[1;33m(\u001b[0m\u001b[0mins_batch\u001b[0m\u001b[1;33m)\u001b[0m\u001b[1;33m\u001b[0m\u001b[1;33m\u001b[0m\u001b[0m\n\u001b[0m\u001b[0;32m    200\u001b[0m                 \u001b[0mouts\u001b[0m \u001b[1;33m=\u001b[0m \u001b[0mto_list\u001b[0m\u001b[1;33m(\u001b[0m\u001b[0mouts\u001b[0m\u001b[1;33m)\u001b[0m\u001b[1;33m\u001b[0m\u001b[1;33m\u001b[0m\u001b[0m\n\u001b[0;32m    201\u001b[0m                 \u001b[1;32mfor\u001b[0m \u001b[0ml\u001b[0m\u001b[1;33m,\u001b[0m \u001b[0mo\u001b[0m \u001b[1;32min\u001b[0m \u001b[0mzip\u001b[0m\u001b[1;33m(\u001b[0m\u001b[0mout_labels\u001b[0m\u001b[1;33m,\u001b[0m \u001b[0mouts\u001b[0m\u001b[1;33m)\u001b[0m\u001b[1;33m:\u001b[0m\u001b[1;33m\u001b[0m\u001b[1;33m\u001b[0m\u001b[0m\n",
      "\u001b[1;32mE:\\Anaconda\\lib\\site-packages\\keras\\backend\\tensorflow_backend.py\u001b[0m in \u001b[0;36m__call__\u001b[1;34m(self, inputs)\u001b[0m\n\u001b[0;32m   2713\u001b[0m                 \u001b[1;32mreturn\u001b[0m \u001b[0mself\u001b[0m\u001b[1;33m.\u001b[0m\u001b[0m_legacy_call\u001b[0m\u001b[1;33m(\u001b[0m\u001b[0minputs\u001b[0m\u001b[1;33m)\u001b[0m\u001b[1;33m\u001b[0m\u001b[1;33m\u001b[0m\u001b[0m\n\u001b[0;32m   2714\u001b[0m \u001b[1;33m\u001b[0m\u001b[0m\n\u001b[1;32m-> 2715\u001b[1;33m             \u001b[1;32mreturn\u001b[0m \u001b[0mself\u001b[0m\u001b[1;33m.\u001b[0m\u001b[0m_call\u001b[0m\u001b[1;33m(\u001b[0m\u001b[0minputs\u001b[0m\u001b[1;33m)\u001b[0m\u001b[1;33m\u001b[0m\u001b[1;33m\u001b[0m\u001b[0m\n\u001b[0m\u001b[0;32m   2716\u001b[0m         \u001b[1;32melse\u001b[0m\u001b[1;33m:\u001b[0m\u001b[1;33m\u001b[0m\u001b[1;33m\u001b[0m\u001b[0m\n\u001b[0;32m   2717\u001b[0m             \u001b[1;32mif\u001b[0m \u001b[0mpy_any\u001b[0m\u001b[1;33m(\u001b[0m\u001b[0mis_tensor\u001b[0m\u001b[1;33m(\u001b[0m\u001b[0mx\u001b[0m\u001b[1;33m)\u001b[0m \u001b[1;32mfor\u001b[0m \u001b[0mx\u001b[0m \u001b[1;32min\u001b[0m \u001b[0minputs\u001b[0m\u001b[1;33m)\u001b[0m\u001b[1;33m:\u001b[0m\u001b[1;33m\u001b[0m\u001b[1;33m\u001b[0m\u001b[0m\n",
      "\u001b[1;32mE:\\Anaconda\\lib\\site-packages\\keras\\backend\\tensorflow_backend.py\u001b[0m in \u001b[0;36m_call\u001b[1;34m(self, inputs)\u001b[0m\n\u001b[0;32m   2673\u001b[0m             \u001b[0mfetched\u001b[0m \u001b[1;33m=\u001b[0m \u001b[0mself\u001b[0m\u001b[1;33m.\u001b[0m\u001b[0m_callable_fn\u001b[0m\u001b[1;33m(\u001b[0m\u001b[1;33m*\u001b[0m\u001b[0marray_vals\u001b[0m\u001b[1;33m,\u001b[0m \u001b[0mrun_metadata\u001b[0m\u001b[1;33m=\u001b[0m\u001b[0mself\u001b[0m\u001b[1;33m.\u001b[0m\u001b[0mrun_metadata\u001b[0m\u001b[1;33m)\u001b[0m\u001b[1;33m\u001b[0m\u001b[1;33m\u001b[0m\u001b[0m\n\u001b[0;32m   2674\u001b[0m         \u001b[1;32melse\u001b[0m\u001b[1;33m:\u001b[0m\u001b[1;33m\u001b[0m\u001b[1;33m\u001b[0m\u001b[0m\n\u001b[1;32m-> 2675\u001b[1;33m             \u001b[0mfetched\u001b[0m \u001b[1;33m=\u001b[0m \u001b[0mself\u001b[0m\u001b[1;33m.\u001b[0m\u001b[0m_callable_fn\u001b[0m\u001b[1;33m(\u001b[0m\u001b[1;33m*\u001b[0m\u001b[0marray_vals\u001b[0m\u001b[1;33m)\u001b[0m\u001b[1;33m\u001b[0m\u001b[1;33m\u001b[0m\u001b[0m\n\u001b[0m\u001b[0;32m   2676\u001b[0m         \u001b[1;32mreturn\u001b[0m \u001b[0mfetched\u001b[0m\u001b[1;33m[\u001b[0m\u001b[1;33m:\u001b[0m\u001b[0mlen\u001b[0m\u001b[1;33m(\u001b[0m\u001b[0mself\u001b[0m\u001b[1;33m.\u001b[0m\u001b[0moutputs\u001b[0m\u001b[1;33m)\u001b[0m\u001b[1;33m]\u001b[0m\u001b[1;33m\u001b[0m\u001b[1;33m\u001b[0m\u001b[0m\n\u001b[0;32m   2677\u001b[0m \u001b[1;33m\u001b[0m\u001b[0m\n",
      "\u001b[1;32mE:\\Anaconda\\lib\\site-packages\\tensorflow\\python\\client\\session.py\u001b[0m in \u001b[0;36m__call__\u001b[1;34m(self, *args, **kwargs)\u001b[0m\n\u001b[0;32m   1437\u001b[0m           ret = tf_session.TF_SessionRunCallable(\n\u001b[0;32m   1438\u001b[0m               \u001b[0mself\u001b[0m\u001b[1;33m.\u001b[0m\u001b[0m_session\u001b[0m\u001b[1;33m.\u001b[0m\u001b[0m_session\u001b[0m\u001b[1;33m,\u001b[0m \u001b[0mself\u001b[0m\u001b[1;33m.\u001b[0m\u001b[0m_handle\u001b[0m\u001b[1;33m,\u001b[0m \u001b[0margs\u001b[0m\u001b[1;33m,\u001b[0m \u001b[0mstatus\u001b[0m\u001b[1;33m,\u001b[0m\u001b[1;33m\u001b[0m\u001b[1;33m\u001b[0m\u001b[0m\n\u001b[1;32m-> 1439\u001b[1;33m               run_metadata_ptr)\n\u001b[0m\u001b[0;32m   1440\u001b[0m         \u001b[1;32mif\u001b[0m \u001b[0mrun_metadata\u001b[0m\u001b[1;33m:\u001b[0m\u001b[1;33m\u001b[0m\u001b[1;33m\u001b[0m\u001b[0m\n\u001b[0;32m   1441\u001b[0m           \u001b[0mproto_data\u001b[0m \u001b[1;33m=\u001b[0m \u001b[0mtf_session\u001b[0m\u001b[1;33m.\u001b[0m\u001b[0mTF_GetBuffer\u001b[0m\u001b[1;33m(\u001b[0m\u001b[0mrun_metadata_ptr\u001b[0m\u001b[1;33m)\u001b[0m\u001b[1;33m\u001b[0m\u001b[1;33m\u001b[0m\u001b[0m\n",
      "\u001b[1;31mKeyboardInterrupt\u001b[0m: "
     ]
    }
   ],
   "source": [
    "bigger_model_hist = bigger_model.fit(x_train, y_train,\n",
    "                                     epochs=20,\n",
    "                                     batch_size=512,\n",
    "                                     validation_data=(x_test, y_test))"
   ]
  },
  {
   "cell_type": "code",
   "execution_count": 14,
   "metadata": {},
   "outputs": [],
   "source": [
    "from keras import regularizers\n",
    "\n",
    "l2_model = models.Sequential()\n",
    "l2_model.add(layers.Dense(16, kernel_regularizer=regularizers.l2(0.001),\n",
    "                          activation='relu', input_shape=(10000,)))\n",
    "l2_model.add(layers.Dense(16, kernel_regularizer=regularizers.l2(0.001),\n",
    "                          activation='relu'))\n",
    "l2_model.add(layers.Dense(1, activation='sigmoid'))"
   ]
  },
  {
   "cell_type": "code",
   "execution_count": 15,
   "metadata": {},
   "outputs": [],
   "source": [
    "l2_model.compile(optimizer='rmsprop',\n",
    "                 loss='binary_crossentropy',\n",
    "                 metrics=['acc'])"
   ]
  },
  {
   "cell_type": "code",
   "execution_count": 16,
   "metadata": {},
   "outputs": [
    {
     "name": "stdout",
     "output_type": "stream",
     "text": [
      "Train on 25000 samples, validate on 25000 samples\n",
      "Epoch 1/20\n",
      "25000/25000 [==============================] - 6s 259us/step - loss: 0.5469 - acc: 0.7988 - val_loss: 0.4252 - val_acc: 0.8790\n",
      "Epoch 2/20\n",
      "25000/25000 [==============================] - 5s 215us/step - loss: 0.3443 - acc: 0.9008 - val_loss: 0.3554 - val_acc: 0.8826\n",
      "Epoch 3/20\n",
      "25000/25000 [==============================] - 5s 214us/step - loss: 0.2815 - acc: 0.9182 - val_loss: 0.3281 - val_acc: 0.8903\n",
      "Epoch 4/20\n",
      "25000/25000 [==============================] - 5s 212us/step - loss: 0.2551 - acc: 0.9265 - val_loss: 0.3295 - val_acc: 0.8883\n",
      "Epoch 5/20\n",
      "25000/25000 [==============================] - 6s 225us/step - loss: 0.2400 - acc: 0.9330 - val_loss: 0.3335 - val_acc: 0.8859\n",
      "Epoch 6/20\n",
      "25000/25000 [==============================] - 5s 213us/step - loss: 0.2288 - acc: 0.9375 - val_loss: 0.3395 - val_acc: 0.8842\n",
      "Epoch 7/20\n",
      "25000/25000 [==============================] - 5s 217us/step - loss: 0.2196 - acc: 0.9411 - val_loss: 0.3503 - val_acc: 0.8795\n",
      "Epoch 8/20\n",
      "25000/25000 [==============================] - 5s 216us/step - loss: 0.2150 - acc: 0.9430 - val_loss: 0.3539 - val_acc: 0.8794\n",
      "Epoch 9/20\n",
      "25000/25000 [==============================] - 5s 216us/step - loss: 0.2120 - acc: 0.9420 - val_loss: 0.3850 - val_acc: 0.8696\n",
      "Epoch 10/20\n",
      "25000/25000 [==============================] - 5s 214us/step - loss: 0.2033 - acc: 0.9492 - val_loss: 0.3867 - val_acc: 0.8726\n",
      "Epoch 11/20\n",
      "25000/25000 [==============================] - 5s 214us/step - loss: 0.2021 - acc: 0.9476 - val_loss: 0.3733 - val_acc: 0.8761\n",
      "Epoch 12/20\n",
      "25000/25000 [==============================] - 5s 215us/step - loss: 0.1958 - acc: 0.9513 - val_loss: 0.3789 - val_acc: 0.8741\n",
      "Epoch 13/20\n",
      "25000/25000 [==============================] - 5s 214us/step - loss: 0.1963 - acc: 0.9510 - val_loss: 0.3853 - val_acc: 0.8740\n",
      "Epoch 14/20\n",
      "25000/25000 [==============================] - 5s 218us/step - loss: 0.1885 - acc: 0.9544 - val_loss: 0.3915 - val_acc: 0.8730\n",
      "Epoch 15/20\n",
      "25000/25000 [==============================] - 5s 213us/step - loss: 0.1861 - acc: 0.9539 - val_loss: 0.4109 - val_acc: 0.8711\n",
      "Epoch 16/20\n",
      "25000/25000 [==============================] - 5s 217us/step - loss: 0.1837 - acc: 0.9551 - val_loss: 0.4048 - val_acc: 0.8704\n",
      "Epoch 17/20\n",
      "25000/25000 [==============================] - 6s 220us/step - loss: 0.1841 - acc: 0.9553 - val_loss: 0.4067 - val_acc: 0.8713\n",
      "Epoch 18/20\n",
      "25000/25000 [==============================] - 5s 217us/step - loss: 0.1760 - acc: 0.9590 - val_loss: 0.4194 - val_acc: 0.8671\n",
      "Epoch 19/20\n",
      "25000/25000 [==============================] - 5s 216us/step - loss: 0.1774 - acc: 0.9569 - val_loss: 0.4338 - val_acc: 0.8630\n",
      "Epoch 20/20\n",
      "25000/25000 [==============================] - 5s 215us/step - loss: 0.1707 - acc: 0.9611 - val_loss: 0.4282 - val_acc: 0.8680\n"
     ]
    }
   ],
   "source": [
    "l2_model_hist = l2_model.fit(x_train, y_train,\n",
    "                             epochs=20,\n",
    "                             batch_size=512,\n",
    "                             validation_data=(x_test, y_test))"
   ]
  },
  {
   "cell_type": "code",
   "execution_count": 17,
   "metadata": {},
   "outputs": [
    {
     "data": {
      "image/png": "[encoded data removed]",
      "text/plain": [
       "<Figure size 432x288 with 1 Axes>"
      ]
     },
     "metadata": {
      "needs_background": "light"
     },
     "output_type": "display_data"
    }
   ],
   "source": [
    "l2_model_val_loss = l2_model_hist.history['val_loss']\n",
    "\n",
    "plt.plot(epochs, original_val_loss, 'b+', label='Original model')\n",
    "plt.plot(epochs, l2_model_val_loss, 'bo', label='L2-regularized model')\n",
    "plt.xlabel('Epochs')\n",
    "plt.ylabel('Validation loss')\n",
    "plt.legend()\n",
    "\n",
    "plt.show()"
   ]
  },
  {
   "cell_type": "code",
   "execution_count": 19,
   "metadata": {},
   "outputs": [
    {
     "data": {
      "text/plain": [
       "<keras.regularizers.L1L2 at 0x1e29c04f198>"
      ]
     },
     "execution_count": 19,
     "metadata": {},
     "output_type": "execute_result"
    }
   ],
   "source": [
    "from keras import regularizers\n",
    "\n",
    "regularizers.l1(0.001)\n",
    "\n",
    "regularizers.l1_l2(l1=0.001, l2=0.001)"
   ]
  },
  {
   "cell_type": "code",
   "execution_count": 22,
   "metadata": {},
   "outputs": [],
   "source": [
    "dpt_model = models.Sequential()\n",
    "dpt_model.add(layers.Dense(16, activation='relu', input_shape=(10000,)))\n",
    "#加入Dropout层\n",
    "dpt_model.add(layers.Dropout(0.5))\n",
    "dpt_model.add(layers.Dense(16, activation='relu'))\n",
    "dpt_model.add(layers.Dropout(0.5))\n",
    "dpt_model.add(layers.Dense(1, activation='sigmoid'))\n",
    "\n",
    "dpt_model.compile(optimizer='rmsprop',\n",
    "                  loss='binary_crossentropy',\n",
    "                  metrics=['acc'])"
   ]
  },
  {
   "cell_type": "code",
   "execution_count": 23,
   "metadata": {},
   "outputs": [
    {
     "name": "stdout",
     "output_type": "stream",
     "text": [
      "Train on 25000 samples, validate on 25000 samples\n",
      "Epoch 1/20\n",
      "25000/25000 [==============================] - 7s 265us/step - loss: 0.6348 - acc: 0.6365 - val_loss: 0.5539 - val_acc: 0.8496\n",
      "Epoch 2/20\n",
      "25000/25000 [==============================] - 5s 216us/step - loss: 0.5058 - acc: 0.7777 - val_loss: 0.4101 - val_acc: 0.8755\n",
      "Epoch 3/20\n",
      "25000/25000 [==============================] - 5s 216us/step - loss: 0.4101 - acc: 0.8395 - val_loss: 0.3287 - val_acc: 0.8864\n",
      "Epoch 4/20\n",
      "25000/25000 [==============================] - 5s 215us/step - loss: 0.3476 - acc: 0.8793 - val_loss: 0.2938 - val_acc: 0.8882\n",
      "Epoch 5/20\n",
      "25000/25000 [==============================] - 5s 215us/step - loss: 0.2970 - acc: 0.9025 - val_loss: 0.2810 - val_acc: 0.8876\n",
      "Epoch 6/20\n",
      "25000/25000 [==============================] - 5s 213us/step - loss: 0.2651 - acc: 0.9153 - val_loss: 0.2822 - val_acc: 0.8867\n",
      "Epoch 7/20\n",
      "25000/25000 [==============================] - 5s 217us/step - loss: 0.2371 - acc: 0.9251 - val_loss: 0.2929 - val_acc: 0.8868\n",
      "Epoch 8/20\n",
      "25000/25000 [==============================] - 5s 214us/step - loss: 0.2148 - acc: 0.9334 - val_loss: 0.3100 - val_acc: 0.8873\n",
      "Epoch 9/20\n",
      "25000/25000 [==============================] - 5s 212us/step - loss: 0.1968 - acc: 0.9389 - val_loss: 0.3205 - val_acc: 0.8842\n",
      "Epoch 10/20\n",
      "25000/25000 [==============================] - 5s 212us/step - loss: 0.1799 - acc: 0.9442 - val_loss: 0.3598 - val_acc: 0.8832\n",
      "Epoch 11/20\n",
      "25000/25000 [==============================] - 5s 214us/step - loss: 0.1660 - acc: 0.9482 - val_loss: 0.3603 - val_acc: 0.8814\n",
      "Epoch 12/20\n",
      "25000/25000 [==============================] - 5s 214us/step - loss: 0.1545 - acc: 0.9528 - val_loss: 0.4013 - val_acc: 0.8782\n",
      "Epoch 13/20\n",
      "25000/25000 [==============================] - 5s 214us/step - loss: 0.1472 - acc: 0.9544 - val_loss: 0.4055 - val_acc: 0.8786\n",
      "Epoch 14/20\n",
      "25000/25000 [==============================] - 5s 214us/step - loss: 0.1431 - acc: 0.9561 - val_loss: 0.4368 - val_acc: 0.8787\n",
      "Epoch 15/20\n",
      "25000/25000 [==============================] - 5s 217us/step - loss: 0.1356 - acc: 0.9594 - val_loss: 0.4325 - val_acc: 0.8738\n",
      "Epoch 16/20\n",
      "25000/25000 [==============================] - 5s 215us/step - loss: 0.1247 - acc: 0.9638 - val_loss: 0.4763 - val_acc: 0.8776\n",
      "Epoch 17/20\n",
      "25000/25000 [==============================] - 5s 216us/step - loss: 0.1186 - acc: 0.9634 - val_loss: 0.4829 - val_acc: 0.8760\n",
      "Epoch 18/20\n",
      "25000/25000 [==============================] - 5s 214us/step - loss: 0.1186 - acc: 0.9646 - val_loss: 0.5011 - val_acc: 0.8761\n",
      "Epoch 19/20\n",
      "25000/25000 [==============================] - 5s 216us/step - loss: 0.1135 - acc: 0.9656 - val_loss: 0.5271 - val_acc: 0.8748\n",
      "Epoch 20/20\n",
      "25000/25000 [==============================] - 5s 217us/step - loss: 0.1094 - acc: 0.9684 - val_loss: 0.5416 - val_acc: 0.8756\n"
     ]
    }
   ],
   "source": [
    "dpt_model_hist = dpt_model.fit(x_train, y_train,\n",
    "                               epochs=20,\n",
    "                               batch_size=512,\n",
    "                               validation_data=(x_test, y_test))"
   ]
  },
  {
   "cell_type": "code",
   "execution_count": 24,
   "metadata": {},
   "outputs": [
    {
     "data": {
      "image/png": "[encoded data removed]",
      "text/plain": [
       "<Figure size 432x288 with 1 Axes>"
      ]
     },
     "metadata": {
      "needs_background": "light"
     },
     "output_type": "display_data"
    }
   ],
   "source": [
    "dpt_model_val_loss = dpt_model_hist.history['val_loss']\n",
    "\n",
    "plt.plot(epochs, original_val_loss, 'b+', label='Original model')\n",
    "plt.plot(epochs, dpt_model_val_loss, 'bo', label='Dropout-regularized model')\n",
    "plt.xlabel('Epochs')\n",
    "plt.ylabel('Validation loss')\n",
    "plt.legend()\n",
    "\n",
    "plt.show()"
   ]
  },
  {
   "cell_type": "code",
   "execution_count": null,
   "metadata": {},
   "outputs": [],
   "source": []
  },
  {
   "cell_type": "code",
   "execution_count": null,
   "metadata": {},
   "outputs": [],
   "source": []
  },
  {
   "cell_type": "code",
   "execution_count": null,
   "metadata": {},
   "outputs": [],
   "source": []
  },
  {
   "cell_type": "code",
   "execution_count": null,
   "metadata": {},
   "outputs": [],
   "source": []
  },
  {
   "cell_type": "code",
   "execution_count": null,
   "metadata": {},
   "outputs": [],
   "source": []
  },
  {
   "cell_type": "code",
   "execution_count": null,
   "metadata": {},
   "outputs": [],
   "source": []
  }
 ],
 "metadata": {
  "kernelspec": {
   "display_name": "Python 3",
   "language": "python",
   "name": "python3"
  },
  "language_info": {
   "codemirror_mode": {
    "name": "ipython",
    "version": 3
   },
   "file_extension": ".py",
   "mimetype": "text/x-python",
   "name": "python",
   "nbconvert_exporter": "python",
   "pygments_lexer": "ipython3",
   "version": "3.7.1"
  }
 },
 "nbformat": 4,
 "nbformat_minor": 2
}
